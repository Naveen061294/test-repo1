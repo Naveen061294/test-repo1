{
  "metadata": {
    "language_info": {
      "codemirror_mode": {
        "name": "python",
        "version": 3
      },
      "file_extension": ".py",
      "mimetype": "text/x-python",
      "name": "python",
      "nbconvert_exporter": "python",
      "pygments_lexer": "ipython3",
      "version": "3.8"
    },
    "kernelspec": {
      "name": "python",
      "display_name": "Pyolite",
      "language": "python"
    }
  },
  "nbformat_minor": 4,
  "nbformat": 4,
  "cells": [
    {
      "cell_type": "markdown",
      "source": " # **My Jupyter Notebook on IBM Watson Studio**",
      "metadata": {}
    },
    {
      "cell_type": "markdown",
      "source": "**Naveen Kalagoni**",
      "metadata": {}
    },
    {
      "cell_type": "markdown",
      "source": "_I am interested in Data science because, I like to work on forecasting data_, _Which is widely used among \nthe retails and entertainment industry._\n",
      "metadata": {}
    },
    {
      "cell_type": "markdown",
      "source": "### Addition of two numbers",
      "metadata": {}
    },
    {
      "cell_type": "code",
      "source": "9+5",
      "metadata": {
        "trusted": true
      },
      "execution_count": 19,
      "outputs": [
        {
          "execution_count": 19,
          "output_type": "execute_result",
          "data": {
            "text/plain": "14"
          },
          "metadata": {}
        }
      ]
    },
    {
      "cell_type": "markdown",
      "source": "#Number list\n1. numbered item\n2. Numbered item\n3. Numbered item\n\n#Bullet Points\n- Bullet point1\n- Bullet point2\n- Bullet point3\n\n#Horizontal Lines\nHarry loves playing\nHarry eats alot***\nHarry plays in the evening***",
      "metadata": {}
    }
  ]
}